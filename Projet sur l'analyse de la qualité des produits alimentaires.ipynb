{
 "cells": [
  {
   "cell_type": "markdown",
   "id": "50b3e461",
   "metadata": {},
   "source": [
    "# Projet : réaliser une étude sur les produits alimentaires"
   ]
  },
  {
   "cell_type": "markdown",
   "id": "2830f82a",
   "metadata": {},
   "source": [
    "## 1 - Contexte"
   ]
  },
  {
   "cell_type": "markdown",
   "id": "61616f74",
   "metadata": {},
   "source": [
    "Vous réalisez une mission \"UFC-Que Choisir\". Cette association vous demande de réaliser une étude \n",
    "sur la qualité des produits alimentaires mis à disposition des consommateurs par les marques. Cette étude a vocation à aider les consommateurs dans leurs choix."
   ]
  },
  {
   "cell_type": "markdown",
   "id": "ee9122d5",
   "metadata": {},
   "source": [
    "L'objectif est d'analyser les marques sur au moins les critères suivants : la qualité nutritionnelle, l'impact environnemental, la part des produits biologiques.\n"
   ]
  },
  {
   "cell_type": "markdown",
   "id": "30eda468",
   "metadata": {},
   "source": [
    "Pour cela, vous proposer d'utiliser les données de l'application Yuka"
   ]
  },
  {
   "cell_type": "markdown",
   "id": "b9645916",
   "metadata": {},
   "source": [
    "Voici une liste des questions que se pose l'association : \n",
    "\n",
    "- Quelles sont les marques qui jouent le jeu et affichent le nutriscore ? Lesquelles ne le font pas?\n",
    "\n",
    "- Quelles sont les marques qui ont le plus recours aux additifs nocifs\n",
    "\n",
    "- Quelles sont les marques qui présentent des produits avec la meilleure qualité nutritionnelle ? Les pires ?\n",
    "\n",
    "- Quelles sont les marques qui jouent le jeu et affichent l'ecosore ? Lesquelles ne le font pas?\n",
    "\n",
    "- Quelles sont les marques qui semblent le plus respectueuses de l'environnement ? le moins?\n",
    "\n",
    "- Quelles sont les marques qui proposent essentiellement des produits biologiques ?\n",
    "\n",
    "- Observe-t-on une corrélation entre le caratère bio des produits et la qualité nutritionnelle ? \n",
    "\n",
    "- Observe-t-on une corrélation entre le caratère bio des produits et l'aspect envionnemental ?\n",
    "\n",
    "- Observe-t-on une corrélation entre la la qualité nutritionnelle et l'aspec envionnemental ?\n",
    "\n",
    "- Quelles marques faut-il recommander ? \n",
    "\n",
    "- Quelles marques ne faut-il surtout pas recommander ? \n",
    "\n",
    "\n"
   ]
  },
  {
   "cell_type": "markdown",
   "id": "f1841ca7",
   "metadata": {},
   "source": [
    "## 2 - Données"
   ]
  },
  {
   "cell_type": "markdown",
   "id": "ce9807b9",
   "metadata": {},
   "source": [
    "3 fichiers issues de l'application Yuka sont à exploiter pour réaliser l'analyse. \n"
   ]
  },
  {
   "cell_type": "markdown",
   "id": "4d581f15",
   "metadata": {},
   "source": [
    "Agriculture_biologique_final.csv\n",
    "\n",
    "Qualite nutritionnelle_final.csv\n",
    "\n",
    "Impact environnemental_final.csv"
   ]
  },
  {
   "cell_type": "markdown",
   "id": "c8cd1945",
   "metadata": {},
   "source": [
    "Voici le lien pour récupérer les fichiers"
   ]
  },
  {
   "cell_type": "markdown",
   "id": "36a7e945",
   "metadata": {},
   "source": [
    "# https://www.dropbox.com/sh/pwsv4coi2sbbhyo/AABJ81-xWu3K2Cl0DOCmwbGsa?dl=0"
   ]
  },
  {
   "cell_type": "markdown",
   "id": "460cd91d",
   "metadata": {},
   "source": [
    "## 3 - Consignes"
   ]
  },
  {
   "cell_type": "markdown",
   "id": "b2bbef38",
   "metadata": {},
   "source": [
    "Travail de groupe de 3 personnes. \n",
    "\n",
    "Pour l'évaluation CC, chaque groupe doit livrer à la fin des sessions :\n",
    "\n",
    "    - un rapport synthétisant l'analyse faite et les conculusions obtenues\n",
    "    \n",
    "    - un notebook nettoyé et commenté"
   ]
  },
  {
   "cell_type": "markdown",
   "id": "59fff2c7",
   "metadata": {},
   "source": [
    "## 4 - Contraintes\n",
    "\n",
    "Votre analyse doit inclure des analyses univariées et multivariées\n"
   ]
  },
  {
   "cell_type": "markdown",
   "id": "69189886",
   "metadata": {},
   "source": [
    "## 5 - Préparation de l'environnement"
   ]
  },
  {
   "cell_type": "code",
   "execution_count": 1,
   "id": "d0bed882",
   "metadata": {},
   "outputs": [],
   "source": [
    "# Import de la librairie Pandas\n",
    "import pandas as pd\n",
    "\n",
    "# Import de la librairie matplotlib\n",
    "import matplotlib.pyplot as plt"
   ]
  },
  {
   "cell_type": "markdown",
   "id": "3e9ef769",
   "metadata": {},
   "source": [
    "## 6 - A vous de jouer¶"
   ]
  },
  {
   "cell_type": "markdown",
   "id": "7f70d724",
   "metadata": {},
   "source": [
    "Inspirez-vous du TP vu en cours"
   ]
  },
  {
   "cell_type": "code",
   "execution_count": 3,
   "id": "456504fe",
   "metadata": {},
   "outputs": [],
   "source": [
    "bio = pd.read_csv(\"Agriculture_biologique_final.csv\", sep =\"\\t\")"
   ]
  },
  {
   "cell_type": "code",
   "execution_count": 4,
   "id": "bb19c065",
   "metadata": {},
   "outputs": [
    {
     "data": {
      "text/html": [
       "<div>\n",
       "<style scoped>\n",
       "    .dataframe tbody tr th:only-of-type {\n",
       "        vertical-align: middle;\n",
       "    }\n",
       "\n",
       "    .dataframe tbody tr th {\n",
       "        vertical-align: top;\n",
       "    }\n",
       "\n",
       "    .dataframe thead th {\n",
       "        text-align: right;\n",
       "    }\n",
       "</style>\n",
       "<table border=\"1\" class=\"dataframe\">\n",
       "  <thead>\n",
       "    <tr style=\"text-align: right;\">\n",
       "      <th></th>\n",
       "      <th>product_name</th>\n",
       "      <th>brands_tags</th>\n",
       "      <th>serving_size</th>\n",
       "      <th>est_bio</th>\n",
       "    </tr>\n",
       "  </thead>\n",
       "  <tbody>\n",
       "    <tr>\n",
       "      <th>0</th>\n",
       "      <td>Skyr</td>\n",
       "      <td>danone</td>\n",
       "      <td>NaN</td>\n",
       "      <td>False</td>\n",
       "    </tr>\n",
       "    <tr>\n",
       "      <th>1</th>\n",
       "      <td>moutarde au moût de raisin</td>\n",
       "      <td>courte-paille</td>\n",
       "      <td>NaN</td>\n",
       "      <td>False</td>\n",
       "    </tr>\n",
       "    <tr>\n",
       "      <th>2</th>\n",
       "      <td>Solène céréales poulet</td>\n",
       "      <td>crous</td>\n",
       "      <td>NaN</td>\n",
       "      <td>False</td>\n",
       "    </tr>\n",
       "    <tr>\n",
       "      <th>3</th>\n",
       "      <td>Tarte noix de coco</td>\n",
       "      <td>crous-resto,crous</td>\n",
       "      <td>NaN</td>\n",
       "      <td>False</td>\n",
       "    </tr>\n",
       "    <tr>\n",
       "      <th>4</th>\n",
       "      <td>Crème dessert chocolat</td>\n",
       "      <td>ferme-de-la-fremondiere</td>\n",
       "      <td>NaN</td>\n",
       "      <td>False</td>\n",
       "    </tr>\n",
       "    <tr>\n",
       "      <th>...</th>\n",
       "      <td>...</td>\n",
       "      <td>...</td>\n",
       "      <td>...</td>\n",
       "      <td>...</td>\n",
       "    </tr>\n",
       "    <tr>\n",
       "      <th>463917</th>\n",
       "      <td>Saveur ABRICIT</td>\n",
       "      <td>gerble</td>\n",
       "      <td>NaN</td>\n",
       "      <td>False</td>\n",
       "    </tr>\n",
       "    <tr>\n",
       "      <th>463918</th>\n",
       "      <td>Lindt pâte à tartiner</td>\n",
       "      <td>lindt</td>\n",
       "      <td>NaN</td>\n",
       "      <td>False</td>\n",
       "    </tr>\n",
       "    <tr>\n",
       "      <th>463919</th>\n",
       "      <td>Biodrink antioxydant pendant effort</td>\n",
       "      <td>punch-power</td>\n",
       "      <td>NaN</td>\n",
       "      <td>True</td>\n",
       "    </tr>\n",
       "    <tr>\n",
       "      <th>463920</th>\n",
       "      <td>miel de fleurs sauvage</td>\n",
       "      <td>miellerie-de-la-natouze</td>\n",
       "      <td>NaN</td>\n",
       "      <td>False</td>\n",
       "    </tr>\n",
       "    <tr>\n",
       "      <th>463921</th>\n",
       "      <td>Thé noir BIO Darjeeling</td>\n",
       "      <td>pages</td>\n",
       "      <td>NaN</td>\n",
       "      <td>False</td>\n",
       "    </tr>\n",
       "  </tbody>\n",
       "</table>\n",
       "<p>463922 rows × 4 columns</p>\n",
       "</div>"
      ],
      "text/plain": [
       "                               product_name              brands_tags  \\\n",
       "0                                      Skyr                   danone   \n",
       "1               moutarde au moût de raisin             courte-paille   \n",
       "2                    Solène céréales poulet                    crous   \n",
       "3                        Tarte noix de coco        crous-resto,crous   \n",
       "4                    Crème dessert chocolat  ferme-de-la-fremondiere   \n",
       "...                                     ...                      ...   \n",
       "463917                       Saveur ABRICIT                   gerble   \n",
       "463918                Lindt pâte à tartiner                    lindt   \n",
       "463919  Biodrink antioxydant pendant effort              punch-power   \n",
       "463920               miel de fleurs sauvage  miellerie-de-la-natouze   \n",
       "463921              Thé noir BIO Darjeeling                    pages   \n",
       "\n",
       "       serving_size  est_bio  \n",
       "0               NaN    False  \n",
       "1               NaN    False  \n",
       "2               NaN    False  \n",
       "3               NaN    False  \n",
       "4               NaN    False  \n",
       "...             ...      ...  \n",
       "463917          NaN    False  \n",
       "463918          NaN    False  \n",
       "463919          NaN     True  \n",
       "463920          NaN    False  \n",
       "463921          NaN    False  \n",
       "\n",
       "[463922 rows x 4 columns]"
      ]
     },
     "execution_count": 4,
     "metadata": {},
     "output_type": "execute_result"
    }
   ],
   "source": [
    "bio"
   ]
  },
  {
   "cell_type": "code",
   "execution_count": null,
   "id": "30f3b203",
   "metadata": {},
   "outputs": [],
   "source": []
  }
 ],
 "metadata": {
  "kernelspec": {
   "display_name": "Python 3 (ipykernel)",
   "language": "python",
   "name": "python3"
  },
  "language_info": {
   "codemirror_mode": {
    "name": "ipython",
    "version": 3
   },
   "file_extension": ".py",
   "mimetype": "text/x-python",
   "name": "python",
   "nbconvert_exporter": "python",
   "pygments_lexer": "ipython3",
   "version": "3.11.3"
  }
 },
 "nbformat": 4,
 "nbformat_minor": 5
}
